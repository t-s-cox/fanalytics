{
 "cells": [
  {
   "cell_type": "code",
   "execution_count": 8,
   "id": "20a55f5b",
   "metadata": {},
   "outputs": [],
   "source": [
    "import time\n",
    "import os\n",
    "import cfbd\n",
    "from cfbd.models.betting_game import BettingGame\n",
    "from cfbd.models.season_type import SeasonType\n",
    "from cfbd.rest import ApiException\n",
    "from pprint import pprint\n",
    "import pandas as pd\n",
    "from datetime import datetime\n",
    "\n",
    "def get_betlines(year=2025, season_type=\"regular\", home='georgia tech', away='clemson'):   \n",
    "    # Defining the host is optional and defaults to https://api.collegefootballdata.com\n",
    "    # See configuration.py for a list of all supported configuration parameters.\n",
    "    configuration = cfbd.Configuration(\n",
    "        host = \"https://api.collegefootballdata.com\"\n",
    "    )\n",
    "\n",
    "    # The client must configure the authentication and authorization parameters\n",
    "    # in accordance with the API server security policy.\n",
    "    # Examples for each auth method are provided below, use the example that\n",
    "    # satisfies your auth use case.\n",
    "\n",
    "    # Configure Bearer authorization: apiKey\n",
    "    configuration = cfbd.Configuration(\n",
    "        access_token = os.environ[\"BEARER_TOKEN\"]\n",
    "    )\n",
    "\n",
    "    # Enter a context with an instance of the API client\n",
    "    with cfbd.ApiClient(configuration) as api_client:\n",
    "        # Create an instance of the API class\n",
    "        api_instance = cfbd.BettingApi(api_client)\n",
    "        \n",
    "        ##boilerplate \n",
    "        # game_id = 56 # int | Optional gameId filter (optional)\n",
    "        # year = 2025 # int | Year filter, required if game id not specified (optional)\n",
    "        # season_type = \"regular\" # SeasonType | Optional season type filter (optional)\n",
    "        # home = 'georgia tech' # str | Optional home team filter (optional)\n",
    "        # away = 'clemson' # str | Optional away team filter (optional)\n",
    "        # conference = 'conference_example' # str | Optional conference filter (optional)\n",
    "        # provider = 'provider_example' # str | Optional provider name filter (optional)\n",
    "\n",
    "        try:\n",
    "            api_response = api_instance.get_lines(year=year, season_type=season_type, home=home, away=away) # this is the json file with all the gotten data in int. \n",
    "            print(\"The response of BettingApi->get_lines:\\n\")\n",
    "            pprint(api_response)\n",
    "        except Exception as e:\n",
    "            print(\"Exception when calling BettingApi->get_lines: %s\\n\" % e)\n",
    "\n",
    "        return api_response"
   ]
  },
  {
   "cell_type": "code",
   "execution_count": null,
   "id": "b8e83c60",
   "metadata": {},
   "outputs": [],
   "source": []
  },
  {
   "cell_type": "code",
   "execution_count": null,
   "id": "bad43167",
   "metadata": {},
   "outputs": [],
   "source": [
    "import math\n",
    "\n",
    "def run_betlines_for_duration(duration_hours=3.5, sleep_time = 15, filename=\"betlines_full.csv\"):\n",
    "    start_time = time.time()\n",
    "    all_dfs = []\n",
    "    iterations = math.ceil((duration_hours * 60) / sleep_time)\n",
    "    \n",
    "    for _ in range(iterations):\n",
    "        print(f\"Iteration #{_}\")\n",
    "        api_response = get_betlines()\n",
    "        df = pd.DataFrame([bet.to_dict() for bet in api_response])\n",
    "        df['time_stamp'] = current_datetime = datetime.now()\n",
    "        all_dfs.append(df)\n",
    "        \n",
    "        # Save each iteration as before (optional)\n",
    "        # timestamp = datetime.now().strftime(\"%Y%m%d_%H%M\")\n",
    "        # filename = f\"betlines_{timestamp}.csv\"\n",
    "        # df.to_csv(filename, index=False)\n",
    "        # print(f\"Saved {filename}\")\n",
    "        \n",
    "        # Wait for 15 minutes unless time is up\n",
    "        if (time.time() - start_time) >= duration_hours * 3600: \n",
    "            break\n",
    "        time.sleep(sleep_time * 60)\n",
    "    \n",
    "    # Concatenate all DataFrames and save to a big CSV\n",
    "    big_df = pd.concat(all_dfs, ignore_index=True)\n",
    "    big_filename = \"betlines_full.csv\"\n",
    "    big_df.to_csv(big_filename, index=False)\n",
    "    print(f\"Saved all data to {big_filename}\")"
   ]
  },
  {
   "cell_type": "code",
   "execution_count": null,
   "id": "7c8ff85a",
   "metadata": {},
   "outputs": [
    {
     "name": "stdout",
     "output_type": "stream",
     "text": [
      "Iteration #0\n",
      "The response of BettingApi->get_lines:\n",
      "\n",
      "[BettingGame(id=401754623, season=2025, season_type=<SeasonType.REGULAR: 'regular'>, week=3, start_date=datetime.datetime(2025, 9, 13, 16, 0, tzinfo=datetime.timezone.utc), home_team_id=59, home_team='Georgia Tech', home_conference='ACC', home_classification=<DivisionClassification.FBS: 'fbs'>, home_score=24, away_team_id=228, away_team='Clemson', away_conference='ACC', away_classification=<DivisionClassification.FBS: 'fbs'>, away_score=21, lines=[GameLine(provider='ESPN Bet', spread=2.5, formatted_spread='Clemson -2.5', spread_open=9.5, over_under=49.5, over_under_open=58.5, home_moneyline=130, away_moneyline=-150), GameLine(provider='DraftKings', spread=3, formatted_spread='Clemson -3', spread_open=8.5, over_under=51.5, over_under_open=None, home_moneyline=120, away_moneyline=-142), GameLine(provider='Bovada', spread=3, formatted_spread='Clemson -3.0', spread_open=6.5, over_under=51, over_under_open=52.5, home_moneyline=175, away_moneyline=-210)])]\n"
     ]
    }
   ],
   "source": [
    "run_betlines_for_duration(duration_hours=(1/30), sleep_time = 1)"
   ]
  },
  {
   "cell_type": "code",
   "execution_count": null,
   "id": "3fae15e5",
   "metadata": {},
   "outputs": [],
   "source": []
  },
  {
   "cell_type": "code",
   "execution_count": null,
   "id": "4bfe1420",
   "metadata": {},
   "outputs": [],
   "source": []
  },
  {
   "cell_type": "code",
   "execution_count": null,
   "id": "d3eb6b36",
   "metadata": {},
   "outputs": [],
   "source": []
  },
  {
   "cell_type": "code",
   "execution_count": null,
   "id": "afc53579",
   "metadata": {},
   "outputs": [],
   "source": []
  }
 ],
 "metadata": {
  "kernelspec": {
   "display_name": "HackGT12",
   "language": "python",
   "name": "python3"
  },
  "language_info": {
   "codemirror_mode": {
    "name": "ipython",
    "version": 3
   },
   "file_extension": ".py",
   "mimetype": "text/x-python",
   "name": "python",
   "nbconvert_exporter": "python",
   "pygments_lexer": "ipython3",
   "version": "3.11.13"
  }
 },
 "nbformat": 4,
 "nbformat_minor": 5
}
