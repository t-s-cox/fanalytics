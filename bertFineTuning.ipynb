{
 "cells": [
  {
   "cell_type": "code",
   "execution_count": 1,
   "id": "5de6201e-6d55-4f13-8df9-7f36a4cc32cb",
   "metadata": {},
   "outputs": [
    {
     "name": "stderr",
     "output_type": "stream",
     "text": [
      "c:\\Users\\wyatt\\anaconda3\\envs\\hackGT\\Lib\\site-packages\\tqdm\\auto.py:21: TqdmWarning: IProgress not found. Please update jupyter and ipywidgets. See https://ipywidgets.readthedocs.io/en/stable/user_install.html\n",
      "  from .autonotebook import tqdm as notebook_tqdm\n"
     ]
    }
   ],
   "source": [
    "import torch\n",
    "from torch.utils.data import DataLoader, TensorDataset, Subset\n",
    "from torch import nn\n",
    "from transformers import BertTokenizer, BertModel, BertPreTrainedModel, BertConfig\n",
    "from torch.optim import AdamW\n",
    "import pandas as pd\n",
    "from sklearn.model_selection import KFold, train_test_split\n",
    "from tqdm import tqdm"
   ]
  },
  {
   "cell_type": "markdown",
   "id": "af566ddc-009d-4ef3-9c9c-f50d203f2e48",
   "metadata": {},
   "source": [
    "## Load and tokenize data"
   ]
  },
  {
   "cell_type": "code",
   "execution_count": 2,
   "id": "87f50568-8cc8-4621-8499-19341b8fb1c7",
   "metadata": {},
   "outputs": [],
   "source": [
    "tokenizer = BertTokenizer.from_pretrained(\"bert-base-uncased\")\n",
    "max_length = 128\n",
    "\n",
    "def load_data(csv_file):\n",
    "    df = pd.read_csv(csv_file)\n",
    "    texts = df[\"text\"].tolist()\n",
    "\n",
    "    for text in texts:\n",
    "        if type(text) != type(\"test\"):\n",
    "            print(text, type(text))\n",
    "    \n",
    "    labels = torch.tensor(df[\"label\"].tolist(), dtype=torch.float)\n",
    "\n",
    "    encodings = tokenizer(\n",
    "        texts,\n",
    "        padding=True,\n",
    "        truncation=True,\n",
    "        max_length=max_length,\n",
    "        return_tensors=\"pt\"\n",
    "    )\n",
    "    dataset = TensorDataset(encodings[\"input_ids\"], encodings[\"attention_mask\"], labels)\n",
    "    return dataset\n",
    "\n",
    "dataset = load_data(\"fineTuning3.csv\")  # single CSV with all samples"
   ]
  },
  {
   "cell_type": "markdown",
   "id": "a18a2cc5-0125-4752-a40e-b8fd6f033e89",
   "metadata": {},
   "source": [
    "## Define regression model"
   ]
  },
  {
   "cell_type": "code",
   "execution_count": 3,
   "id": "631a111e-b1da-41ef-bac7-7bcc694ad204",
   "metadata": {},
   "outputs": [],
   "source": [
    "class BertForRegression(BertPreTrainedModel):\n",
    "    def __init__(self, config):\n",
    "        super().__init__(config)\n",
    "        self.bert = BertModel(config)\n",
    "        self.regressor = nn.Linear(config.hidden_size, 1)\n",
    "        self.init_weights()\n",
    "\n",
    "    def forward(self, input_ids, attention_mask):\n",
    "        outputs = self.bert(input_ids=input_ids, attention_mask=attention_mask)\n",
    "        pooled_output = outputs.pooler_output\n",
    "        return self.regressor(pooled_output).squeeze(-1)"
   ]
  },
  {
   "cell_type": "markdown",
   "id": "4622e8ba-b09a-4953-9684-ec60544f0a27",
   "metadata": {},
   "source": [
    "## Train/test split (80/20) + K-Fold CV"
   ]
  },
  {
   "cell_type": "code",
   "execution_count": 4,
   "id": "b980feb1-05be-4839-a2bd-fd17bf1c23c9",
   "metadata": {},
   "outputs": [
    {
     "name": "stdout",
     "output_type": "stream",
     "text": [
      "\n",
      "----- Fold 1 / 5 -----\n"
     ]
    },
    {
     "name": "stderr",
     "output_type": "stream",
     "text": [
      "Some weights of BertForRegression were not initialized from the model checkpoint at bert-base-uncased and are newly initialized: ['regressor.bias', 'regressor.weight']\n",
      "You should probably TRAIN this model on a down-stream task to be able to use it for predictions and inference.\n",
      "Fold 1 Epoch 1: 100%|██████████| 118/118 [00:10<00:00, 11.40it/s]\n"
     ]
    },
    {
     "name": "stdout",
     "output_type": "stream",
     "text": [
      "Fold 1 Epoch 1 Train Loss: 6.7203\n"
     ]
    },
    {
     "name": "stderr",
     "output_type": "stream",
     "text": [
      "Fold 1 Epoch 2: 100%|██████████| 118/118 [00:09<00:00, 12.62it/s]\n"
     ]
    },
    {
     "name": "stdout",
     "output_type": "stream",
     "text": [
      "Fold 1 Epoch 2 Train Loss: 3.4182\n"
     ]
    },
    {
     "name": "stderr",
     "output_type": "stream",
     "text": [
      "Fold 1 Epoch 3: 100%|██████████| 118/118 [00:09<00:00, 12.56it/s]\n"
     ]
    },
    {
     "name": "stdout",
     "output_type": "stream",
     "text": [
      "Fold 1 Epoch 3 Train Loss: 1.8729\n"
     ]
    },
    {
     "name": "stderr",
     "output_type": "stream",
     "text": [
      "Fold 1 Epoch 4: 100%|██████████| 118/118 [00:09<00:00, 12.56it/s]\n"
     ]
    },
    {
     "name": "stdout",
     "output_type": "stream",
     "text": [
      "Fold 1 Epoch 4 Train Loss: 1.0219\n"
     ]
    },
    {
     "name": "stderr",
     "output_type": "stream",
     "text": [
      "Fold 1 Epoch 5: 100%|██████████| 118/118 [00:09<00:00, 12.56it/s]\n"
     ]
    },
    {
     "name": "stdout",
     "output_type": "stream",
     "text": [
      "Fold 1 Epoch 5 Train Loss: 0.6757\n"
     ]
    },
    {
     "name": "stderr",
     "output_type": "stream",
     "text": [
      "Some weights of BertForRegression were not initialized from the model checkpoint at bert-base-uncased and are newly initialized: ['regressor.bias', 'regressor.weight']\n",
      "You should probably TRAIN this model on a down-stream task to be able to use it for predictions and inference.\n"
     ]
    },
    {
     "name": "stdout",
     "output_type": "stream",
     "text": [
      "Fold 1 Test MSE: 3.4709\n",
      "\n",
      "----- Fold 2 / 5 -----\n"
     ]
    },
    {
     "name": "stderr",
     "output_type": "stream",
     "text": [
      "Fold 2 Epoch 1: 100%|██████████| 118/118 [00:09<00:00, 12.63it/s]\n"
     ]
    },
    {
     "name": "stdout",
     "output_type": "stream",
     "text": [
      "Fold 2 Epoch 1 Train Loss: 6.0989\n"
     ]
    },
    {
     "name": "stderr",
     "output_type": "stream",
     "text": [
      "Fold 2 Epoch 2: 100%|██████████| 118/118 [00:09<00:00, 12.53it/s]\n"
     ]
    },
    {
     "name": "stdout",
     "output_type": "stream",
     "text": [
      "Fold 2 Epoch 2 Train Loss: 3.3798\n"
     ]
    },
    {
     "name": "stderr",
     "output_type": "stream",
     "text": [
      "Fold 2 Epoch 3: 100%|██████████| 118/118 [00:09<00:00, 12.62it/s]\n"
     ]
    },
    {
     "name": "stdout",
     "output_type": "stream",
     "text": [
      "Fold 2 Epoch 3 Train Loss: 1.7535\n"
     ]
    },
    {
     "name": "stderr",
     "output_type": "stream",
     "text": [
      "Fold 2 Epoch 4: 100%|██████████| 118/118 [00:09<00:00, 12.56it/s]\n"
     ]
    },
    {
     "name": "stdout",
     "output_type": "stream",
     "text": [
      "Fold 2 Epoch 4 Train Loss: 0.9650\n"
     ]
    },
    {
     "name": "stderr",
     "output_type": "stream",
     "text": [
      "Fold 2 Epoch 5: 100%|██████████| 118/118 [00:09<00:00, 12.54it/s]\n"
     ]
    },
    {
     "name": "stdout",
     "output_type": "stream",
     "text": [
      "Fold 2 Epoch 5 Train Loss: 0.6238\n"
     ]
    },
    {
     "name": "stderr",
     "output_type": "stream",
     "text": [
      "Some weights of BertForRegression were not initialized from the model checkpoint at bert-base-uncased and are newly initialized: ['regressor.bias', 'regressor.weight']\n",
      "You should probably TRAIN this model on a down-stream task to be able to use it for predictions and inference.\n"
     ]
    },
    {
     "name": "stdout",
     "output_type": "stream",
     "text": [
      "Fold 2 Test MSE: 2.9468\n",
      "\n",
      "----- Fold 3 / 5 -----\n"
     ]
    },
    {
     "name": "stderr",
     "output_type": "stream",
     "text": [
      "Fold 3 Epoch 1: 100%|██████████| 118/118 [00:09<00:00, 12.52it/s]\n"
     ]
    },
    {
     "name": "stdout",
     "output_type": "stream",
     "text": [
      "Fold 3 Epoch 1 Train Loss: 6.1549\n"
     ]
    },
    {
     "name": "stderr",
     "output_type": "stream",
     "text": [
      "Fold 3 Epoch 2: 100%|██████████| 118/118 [00:09<00:00, 12.52it/s]\n"
     ]
    },
    {
     "name": "stdout",
     "output_type": "stream",
     "text": [
      "Fold 3 Epoch 2 Train Loss: 3.2476\n"
     ]
    },
    {
     "name": "stderr",
     "output_type": "stream",
     "text": [
      "Fold 3 Epoch 3: 100%|██████████| 118/118 [00:09<00:00, 12.53it/s]\n"
     ]
    },
    {
     "name": "stdout",
     "output_type": "stream",
     "text": [
      "Fold 3 Epoch 3 Train Loss: 1.8394\n"
     ]
    },
    {
     "name": "stderr",
     "output_type": "stream",
     "text": [
      "Fold 3 Epoch 4: 100%|██████████| 118/118 [00:09<00:00, 12.53it/s]\n"
     ]
    },
    {
     "name": "stdout",
     "output_type": "stream",
     "text": [
      "Fold 3 Epoch 4 Train Loss: 1.0789\n"
     ]
    },
    {
     "name": "stderr",
     "output_type": "stream",
     "text": [
      "Fold 3 Epoch 5: 100%|██████████| 118/118 [00:09<00:00, 12.53it/s]\n"
     ]
    },
    {
     "name": "stdout",
     "output_type": "stream",
     "text": [
      "Fold 3 Epoch 5 Train Loss: 0.7851\n"
     ]
    },
    {
     "name": "stderr",
     "output_type": "stream",
     "text": [
      "Some weights of BertForRegression were not initialized from the model checkpoint at bert-base-uncased and are newly initialized: ['regressor.bias', 'regressor.weight']\n",
      "You should probably TRAIN this model on a down-stream task to be able to use it for predictions and inference.\n"
     ]
    },
    {
     "name": "stdout",
     "output_type": "stream",
     "text": [
      "Fold 3 Test MSE: 3.0721\n",
      "\n",
      "----- Fold 4 / 5 -----\n"
     ]
    },
    {
     "name": "stderr",
     "output_type": "stream",
     "text": [
      "Fold 4 Epoch 1: 100%|██████████| 118/118 [00:09<00:00, 12.54it/s]\n"
     ]
    },
    {
     "name": "stdout",
     "output_type": "stream",
     "text": [
      "Fold 4 Epoch 1 Train Loss: 6.6075\n"
     ]
    },
    {
     "name": "stderr",
     "output_type": "stream",
     "text": [
      "Fold 4 Epoch 2: 100%|██████████| 118/118 [00:09<00:00, 12.54it/s]\n"
     ]
    },
    {
     "name": "stdout",
     "output_type": "stream",
     "text": [
      "Fold 4 Epoch 2 Train Loss: 4.2545\n"
     ]
    },
    {
     "name": "stderr",
     "output_type": "stream",
     "text": [
      "Fold 4 Epoch 3: 100%|██████████| 118/118 [00:09<00:00, 12.52it/s]\n"
     ]
    },
    {
     "name": "stdout",
     "output_type": "stream",
     "text": [
      "Fold 4 Epoch 3 Train Loss: 2.4112\n"
     ]
    },
    {
     "name": "stderr",
     "output_type": "stream",
     "text": [
      "Fold 4 Epoch 4: 100%|██████████| 118/118 [00:09<00:00, 12.52it/s]\n"
     ]
    },
    {
     "name": "stdout",
     "output_type": "stream",
     "text": [
      "Fold 4 Epoch 4 Train Loss: 1.2232\n"
     ]
    },
    {
     "name": "stderr",
     "output_type": "stream",
     "text": [
      "Fold 4 Epoch 5: 100%|██████████| 118/118 [00:09<00:00, 12.52it/s]\n"
     ]
    },
    {
     "name": "stdout",
     "output_type": "stream",
     "text": [
      "Fold 4 Epoch 5 Train Loss: 0.6889\n"
     ]
    },
    {
     "name": "stderr",
     "output_type": "stream",
     "text": [
      "Some weights of BertForRegression were not initialized from the model checkpoint at bert-base-uncased and are newly initialized: ['regressor.bias', 'regressor.weight']\n",
      "You should probably TRAIN this model on a down-stream task to be able to use it for predictions and inference.\n"
     ]
    },
    {
     "name": "stdout",
     "output_type": "stream",
     "text": [
      "Fold 4 Test MSE: 3.4138\n",
      "\n",
      "----- Fold 5 / 5 -----\n"
     ]
    },
    {
     "name": "stderr",
     "output_type": "stream",
     "text": [
      "Fold 5 Epoch 1: 100%|██████████| 118/118 [00:09<00:00, 12.52it/s]\n"
     ]
    },
    {
     "name": "stdout",
     "output_type": "stream",
     "text": [
      "Fold 5 Epoch 1 Train Loss: 5.8137\n"
     ]
    },
    {
     "name": "stderr",
     "output_type": "stream",
     "text": [
      "Fold 5 Epoch 2: 100%|██████████| 118/118 [00:09<00:00, 12.53it/s]\n"
     ]
    },
    {
     "name": "stdout",
     "output_type": "stream",
     "text": [
      "Fold 5 Epoch 2 Train Loss: 3.4155\n"
     ]
    },
    {
     "name": "stderr",
     "output_type": "stream",
     "text": [
      "Fold 5 Epoch 3: 100%|██████████| 118/118 [00:09<00:00, 12.53it/s]\n"
     ]
    },
    {
     "name": "stdout",
     "output_type": "stream",
     "text": [
      "Fold 5 Epoch 3 Train Loss: 1.8283\n"
     ]
    },
    {
     "name": "stderr",
     "output_type": "stream",
     "text": [
      "Fold 5 Epoch 4: 100%|██████████| 118/118 [00:09<00:00, 12.53it/s]\n"
     ]
    },
    {
     "name": "stdout",
     "output_type": "stream",
     "text": [
      "Fold 5 Epoch 4 Train Loss: 1.0795\n"
     ]
    },
    {
     "name": "stderr",
     "output_type": "stream",
     "text": [
      "Fold 5 Epoch 5: 100%|██████████| 118/118 [00:09<00:00, 12.50it/s]\n"
     ]
    },
    {
     "name": "stdout",
     "output_type": "stream",
     "text": [
      "Fold 5 Epoch 5 Train Loss: 0.7559\n",
      "Fold 5 Test MSE: 3.2020\n",
      "\n",
      "==== Cross-validation MSE across 5 folds: 3.2211 ====\n"
     ]
    }
   ],
   "source": [
    "def run_training(dataset, k_folds=5, num_epochs=3, batch_size=16):\n",
    "    device = torch.device(\"cuda\" if torch.cuda.is_available() else \"cpu\")\n",
    "    \n",
    "    kfold = KFold(n_splits=k_folds, shuffle=True, random_state=42)\n",
    "\n",
    "    fold_results = []\n",
    "\n",
    "    for fold, (train_ids, test_ids) in enumerate(kfold.split(dataset)):\n",
    "        print(f\"\\n----- Fold {fold+1} / {k_folds} -----\")\n",
    "\n",
    "        train_subsampler = Subset(dataset, train_ids)\n",
    "        test_subsampler = Subset(dataset, test_ids)\n",
    "\n",
    "        train_loader = DataLoader(train_subsampler, batch_size=batch_size, shuffle=True)\n",
    "        test_loader = DataLoader(test_subsampler, batch_size=batch_size)\n",
    "\n",
    "        config = BertConfig.from_pretrained(\"bert-base-uncased\")\n",
    "        model = BertForRegression.from_pretrained(\"bert-base-uncased\", config=config).to(device)\n",
    "        optimizer = AdamW(model.parameters(), lr=2e-5)\n",
    "        criterion = nn.MSELoss()\n",
    "\n",
    "        # Training\n",
    "        for epoch in range(num_epochs):\n",
    "            model.train()\n",
    "            total_loss = 0\n",
    "            for input_ids, attention_mask, labels in tqdm(train_loader, desc=f\"Fold {fold+1} Epoch {epoch+1}\"):\n",
    "                input_ids, attention_mask, labels = input_ids.to(device), attention_mask.to(device), labels.to(device)\n",
    "\n",
    "                optimizer.zero_grad()\n",
    "                outputs = model(input_ids, attention_mask)\n",
    "                loss = criterion(outputs, labels)\n",
    "                loss.backward()\n",
    "                optimizer.step()\n",
    "\n",
    "                total_loss += loss.item()\n",
    "            print(f\"Fold {fold+1} Epoch {epoch+1} Train Loss: {total_loss/len(train_loader):.4f}\")\n",
    "\n",
    "        # Evaluation\n",
    "        model.eval()\n",
    "        mse_total = 0\n",
    "        with torch.no_grad():\n",
    "            for input_ids, attention_mask, labels in test_loader:\n",
    "                input_ids, attention_mask, labels = input_ids.to(device), attention_mask.to(device), labels.to(device)\n",
    "                outputs = model(input_ids, attention_mask)\n",
    "                mse_total += criterion(outputs, labels).item() * input_ids.size(0)\n",
    "\n",
    "        mse_total /= len(test_subsampler)\n",
    "        fold_results.append(mse_total)\n",
    "        print(f\"Fold {fold+1} Test MSE: {mse_total:.4f}\")\n",
    "\n",
    "    avg_mse = sum(fold_results) / len(fold_results)\n",
    "    print(f\"\\n==== Cross-validation MSE across {k_folds} folds: {avg_mse:.4f} ====\")\n",
    "\n",
    "    # Save last model + tokenizer\n",
    "    model.save_pretrained(\"./bert_sentiment_regression\")\n",
    "    tokenizer.save_pretrained(\"./bert_sentiment_regression\")\n",
    "\n",
    "run_training(dataset, k_folds=5, num_epochs=5)"
   ]
  },
  {
   "cell_type": "markdown",
   "id": "09bbf4c3-d8a7-4e7d-a46b-9d62cbb51f2c",
   "metadata": {},
   "source": [
    "## Test"
   ]
  },
  {
   "cell_type": "code",
   "execution_count": 4,
   "id": "a1a05979-5a53-4422-b6cf-d4ab11f6a6f7",
   "metadata": {},
   "outputs": [
    {
     "name": "stdout",
     "output_type": "stream",
     "text": [
      "Tweet: holy fucking shit the chiefs are so ass. why did taylor swift agree to marry this bum ass travis kelce? his old slow fat ass can’t do shit!\n",
      "Prediction: 0.083\n",
      "\n",
      "Tweet: Why the fuck did I watch that game, and why did I keep watching it, and why did I watch all of it\n",
      "Prediction: 0.217\n",
      "\n",
      "Tweet: They may not have been the best opponents, but through 2 weeks Dylan Raiola has thrown for 6 TDs with 0 interceptions and maintained a 78% completion percentag\n",
      "Prediction: 0.776\n",
      "\n"
     ]
    }
   ],
   "source": [
    "model = BertForRegression.from_pretrained(\"./bert_sentiment_regression\")\n",
    "tokenizer = BertTokenizer.from_pretrained(\"./bert_sentiment_regression\")\n",
    "\n",
    "device = torch.device(\"cuda\" if torch.cuda.is_available() else \"cpu\")\n",
    "model.to(device)\n",
    "model.eval()\n",
    "\n",
    "with open(\"./tests.txt\", \"r\") as file:\n",
    "    texts = file.readlines()\n",
    "\n",
    "for text in texts:\n",
    "    text = text[:-1]\n",
    "    inputs = tokenizer(\n",
    "        text,\n",
    "        padding=True,\n",
    "        truncation=True,\n",
    "        max_length=128,\n",
    "        return_tensors=\"pt\"\n",
    "    )\n",
    "    \n",
    "    # Keep only input_ids and attention_mask\n",
    "    inputs = {k: v.to(device) for k, v in inputs.items() if k in [\"input_ids\", \"attention_mask\"]}\n",
    "    \n",
    "    with torch.no_grad():\n",
    "        prediction = model(**inputs)\n",
    "    \n",
    "    print(f\"Tweet: {text}\\nPrediction: {prediction.item()/8:0.3f}\\n\")"
   ]
  },
  {
   "cell_type": "code",
   "execution_count": null,
   "id": "9c37fbb9-15d8-4eea-9ae4-498eae7059c5",
   "metadata": {},
   "outputs": [],
   "source": []
  },
  {
   "cell_type": "code",
   "execution_count": null,
   "id": "6ddcae02-775d-423d-b843-554c5030bef4",
   "metadata": {},
   "outputs": [],
   "source": []
  }
 ],
 "metadata": {
  "kernelspec": {
   "display_name": "hackGT",
   "language": "python",
   "name": "python3"
  },
  "language_info": {
   "codemirror_mode": {
    "name": "ipython",
    "version": 3
   },
   "file_extension": ".py",
   "mimetype": "text/x-python",
   "name": "python",
   "nbconvert_exporter": "python",
   "pygments_lexer": "ipython3",
   "version": "3.13.7"
  }
 },
 "nbformat": 4,
 "nbformat_minor": 5
}
